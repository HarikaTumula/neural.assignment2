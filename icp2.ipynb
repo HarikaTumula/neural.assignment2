{
  "nbformat": 4,
  "nbformat_minor": 0,
  "metadata": {
    "colab": {
      "provenance": [],
      "authorship_tag": "ABX9TyM6uYPXtvnzfoCbgG+Ap4zW",
      "include_colab_link": true
    },
    "kernelspec": {
      "name": "python3",
      "display_name": "Python 3"
    },
    "language_info": {
      "name": "python"
    }
  },
  "cells": [
    {
      "cell_type": "markdown",
      "metadata": {
        "id": "view-in-github",
        "colab_type": "text"
      },
      "source": [
        "<a href=\"https://colab.research.google.com/github/HarikaTumula/neural.assignment2/blob/main/icp2.ipynb\" target=\"_parent\"><img src=\"https://colab.research.google.com/assets/colab-badge.svg\" alt=\"Open In Colab\"/></a>"
      ]
    },
    {
      "cell_type": "code",
      "source": [
        "print(\"Enter your first name\")\n",
        "first_name = str(input())\n",
        "print(\"Enter your last name\")\n",
        "last_name = str(input())\n",
        "print(\"your full name is\")\n",
        "full_name = first_name + \" \" + last_name\n",
        "print(full_name)"
      ],
      "metadata": {
        "colab": {
          "base_uri": "https://localhost:8080/"
        },
        "id": "D8teMCCKlNCs",
        "outputId": "a71997e9-e1cf-45f2-db93-a45814db1c95"
      },
      "execution_count": null,
      "outputs": [
        {
          "output_type": "stream",
          "name": "stdout",
          "text": [
            "Enter your first name\n",
            "Harika\n",
            "Enter your last name\n",
            "Tumula\n",
            "your full name is\n",
            "Harika Tumula\n"
          ]
        }
      ]
    },
    {
      "cell_type": "code",
      "source": [
        "def string_alternative(x):\n",
        "  return x[::]\n",
        "\n",
        "mytxt = string_alternative(\"Good evening\")\n",
        "\n",
        "print(mytxt[::2])"
      ],
      "metadata": {
        "colab": {
          "base_uri": "https://localhost:8080/"
        },
        "outputId": "97ac7ddd-7fe3-4895-eb3f-b695e5c6f93c",
        "id": "syXUp4hbuK2l"
      },
      "execution_count": null,
      "outputs": [
        {
          "output_type": "stream",
          "name": "stdout",
          "text": [
            "Go vnn\n"
          ]
        }
      ]
    },
    {
      "cell_type": "code",
      "source": [
        "def word_count(str):\n",
        "    counts = dict()\n",
        "    words = str.split()\n",
        "\n",
        "    for word in words:\n",
        "        if word in counts:\n",
        "            counts[word] += 1\n",
        "        else:\n",
        "            counts[word] = 1\n",
        "\n",
        "    return counts\n",
        "with open('sample.txt', 'r') as file1:\n",
        "  FileContent = file1.read()\n",
        "  print(word_count(FileContent))\n",
        "\n"
      ],
      "metadata": {
        "colab": {
          "base_uri": "https://localhost:8080/"
        },
        "id": "BimrYjP-vVzv",
        "outputId": "b7e39040-5a25-4343-c8e1-ebb368a02ab0"
      },
      "execution_count": null,
      "outputs": [
        {
          "output_type": "stream",
          "name": "stdout",
          "text": [
            "{'Python': 1, 'Course': 2, 'Deep': 1, 'Learning': 1}\n"
          ]
        }
      ]
    },
    {
      "cell_type": "code",
      "source": [
        "# creating an empty list\n",
        "import numpy as np\n",
        "mylst = []\n",
        "  \n",
        "# number of elements as input\n",
        "n = int(input(\"Enter number of elements : \"))\n",
        "  \n",
        "# iterating till the range\n",
        "for i in range(0, n):\n",
        "    ele = int(input())\n",
        "  \n",
        "    mylst.append(ele) # adding the element\n",
        "      \n",
        "print(mylst)\n",
        "lyst = mylst\n",
        "result = 2.54\n",
        "for x in lyst:\n",
        " h_cm = np.array(lyst) * result\n",
        " new_list = list(h_cm)\n",
        "print(new_list)"
      ],
      "metadata": {
        "id": "yybDqke45kLf",
        "colab": {
          "base_uri": "https://localhost:8080/"
        },
        "outputId": "26fd9c64-8f7b-40d9-9b41-faf2ed28afbd"
      },
      "execution_count": 9,
      "outputs": [
        {
          "output_type": "stream",
          "name": "stdout",
          "text": [
            "Enter number of elements : 4\n",
            "150\n",
            "155\n",
            "145\n",
            "148\n",
            "[150, 155, 145, 148]\n",
            "[381.0, 393.7, 368.3, 375.92]\n"
          ]
        }
      ]
    }
  ]
}